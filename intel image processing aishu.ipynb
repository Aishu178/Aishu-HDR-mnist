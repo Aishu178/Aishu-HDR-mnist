{
 "cells": [
  {
   "cell_type": "code",
   "execution_count": null,
   "id": "3cfe1a44",
   "metadata": {},
   "outputs": [],
   "source": [
    "import numpy as np\n",
    "import matplotlib.pyplot as plt\n",
    "import os\n",
    "\n",
    "from tensorflow import keras\n",
    "from tensorflow.keras.models import Sequential\n",
    "from tensorflow.keras.layers import Conv2D,Dense,MaxPooling2D,Activation,Dropout,BatchNormalization,Flatten\n",
    "from tensorflow.keras.preprocessing.image import ImageDataGenerator\n",
    "from tensorflow.keras.utils import to_categorical"
   ]
  },
  {
   "cell_type": "code",
   "execution_count": null,
   "id": "446581b0",
   "metadata": {},
   "outputs": [],
   "source": [
    "train = ImageDataGenerator(rescale=1/255)\n",
    "test = ImageDataGenerator(rescale=1/255)\n",
    "\n",
    "train_dataset=train.flow_from_directory(directory=\"C:/Users/aishu/OneDrive/Desktop/seg_train\",target_size=(50,50),shuffle=True)\n",
    "test_dataset=test.flow_from_directory(directory=\"C:/Users/aishu/OneDrive/Desktop/seg_test\",target_size=(50,50),shuffle=True)"
   ]
  },
  {
   "cell_type": "code",
   "execution_count": null,
   "id": "b4e9f16a",
   "metadata": {},
   "outputs": [],
   "source": [
    "indices = [np.random.randint(32) for i in range(10)]\n",
    "print(indices)\n",
    "\n",
    "plt.figure(figsize=(30,10))\n",
    "for i in enumerate(indices):\n",
    "    plt.subplot(2,5,i[0]+1)\n",
    "    plt.imshow(train_dataset[0][0][i[1]])\n",
    "    plt.title(train_dataset[0][1][i[1]])\n",
    "plt.show()\n"
   ]
  },
  {
   "cell_type": "code",
   "execution_count": null,
   "id": "7b5e8d97",
   "metadata": {},
   "outputs": [],
   "source": [
    "values = list(train_dataset.class_indices.values())\n",
    "keys = list(train_dataset.class_indices.keys())\n",
    "\n",
    "disc = list(map(lambda x,y:{x:y},values,keys))\n",
    "\n",
    "from functools import reduce \n",
    "mappings = reduce(lambda x,y:{**x,**y},disc)\n",
    "mappings\n"
   ]
  },
  {
   "cell_type": "code",
   "execution_count": null,
   "id": "6e79a9f0",
   "metadata": {},
   "outputs": [],
   "source": [
    "import keras.utils\n",
    "from keras.layers.convolutional import Conv2D, MaxPooling2D\n",
    "from keras.models import Sequential\n",
    "from keras.layers import Dense, Activation, Flatten, Dropout\n",
    "model=Sequential()\n",
    "model.add(Conv2D(filters=50,kernel_size=(3,3),padding='same',input_shape=(50,50,3)))\n",
    "model.add(Activation('relu'))\n",
    "model.add(Conv2D(filters=32,kernel_size=(3,3)))\n",
    "model.add(Dropout(0.25))\n",
    "model.add(Activation('relu'))\n",
    "model.add(MaxPooling2D(pool_size=(2,2)))\n",
    "\n",
    "\n",
    "model.add(Conv2D(filters=50,kernel_size=(3,3),padding='same',input_shape=(50,50,3)))\n",
    "model.add(Activation('relu'))\n",
    "model.add(Conv2D(filters=32,kernel_size=(3,3)))\n",
    "model.add(Dropout(0.25))\n",
    "model.add(Activation('relu'))\n",
    "model.add(MaxPooling2D(pool_size=(2,2)))\n",
    "\n",
    "\n",
    "model.add(Conv2D(filters=75,kernel_size=(3,3),padding='same',input_shape=(50,50,3)))\n",
    "model.add(Activation('relu'))\n",
    "model.add(Conv2D(filters=32,kernel_size=(3,3)))\n",
    "model.add(Dropout(0.25))\n",
    "model.add(Activation('relu'))\n",
    "model.add(MaxPooling2D(pool_size=(2,2)))\n",
    "\n",
    "\n",
    "model.add(Flatten())\n",
    "kernel_regularizer = keras.regularizers.l1_l2(l1=1e-5,l2=1e-4)\n",
    "model.add(Dense(units=50,activation='relu',kernel_regularizer=kernel_regularizer))\n",
    "model.add(Dense(units=50,activation='relu'))\n",
    "model.add(Dropout(0.25))\n",
    "model.add(Dense(6,activation='softmax'))\n",
    "\n",
    "\n",
    "model.summary()\n"
   ]
  },
  {
   "cell_type": "code",
   "execution_count": null,
   "id": "d4edcc36",
   "metadata": {},
   "outputs": [],
   "source": [
    "model.compile(loss='CategoricalCrossentropy',optimizer = 'adam',metrics='accuracy')\n",
    "history = model.fit(train_dataset,batch_size=80,epochs=2,validation_data=test_dataset)"
   ]
  },
  {
   "cell_type": "code",
   "execution_count": null,
   "id": "0f7dfe3a",
   "metadata": {},
   "outputs": [],
   "source": [
    "plt.plot(history.history['accuracy'],label='accuracy')\n",
    "plt.plot(history.history['val_accuracy'],label='val_accuracy')\n",
    "plt.xlabel('Epoch')\n",
    "plt.ylabel('Accurasy')\n",
    "plt.legend(loc='lower right')"
   ]
  }
 ],
 "metadata": {
  "kernelspec": {
   "display_name": "Python 3 (ipykernel)",
   "language": "python",
   "name": "python3"
  },
  "language_info": {
   "codemirror_mode": {
    "name": "ipython",
    "version": 3
   },
   "file_extension": ".py",
   "mimetype": "text/x-python",
   "name": "python",
   "nbconvert_exporter": "python",
   "pygments_lexer": "ipython3",
   "version": "3.9.16"
  }
 },
 "nbformat": 4,
 "nbformat_minor": 5
}
